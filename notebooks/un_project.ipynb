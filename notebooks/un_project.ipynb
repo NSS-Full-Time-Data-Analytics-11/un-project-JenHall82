{
 "cells": [
  {
   "cell_type": "code",
   "execution_count": null,
   "id": "e2a34908",
   "metadata": {},
   "outputs": [],
   "source": [
    "import pandas as pd\n",
    "import numpy as np\n",
    "import matplotlib.pyplot as plt\n",
    "import seaborn as sns"
   ]
  },
  {
   "cell_type": "code",
   "execution_count": null,
   "id": "69d2fd4a",
   "metadata": {},
   "outputs": [],
   "source": [
    "gdp_df = pd.read_csv('../data/gdp_percapita.csv')"
   ]
  },
  {
   "cell_type": "markdown",
   "id": "f6361a38",
   "metadata": {},
   "source": [
    "How many rows and columns are in gdp_df? What are the data types of each column?"
   ]
  },
  {
   "cell_type": "code",
   "execution_count": null,
   "id": "7af8fa50",
   "metadata": {},
   "outputs": [],
   "source": [
    "gdp_df.shape"
   ]
  },
  {
   "cell_type": "code",
   "execution_count": null,
   "id": "9ef57d30",
   "metadata": {},
   "outputs": [],
   "source": [
    "type(gdp_df)"
   ]
  },
  {
   "cell_type": "code",
   "execution_count": null,
   "id": "09592706",
   "metadata": {},
   "outputs": [],
   "source": [
    "gdp_df.head()"
   ]
  },
  {
   "cell_type": "code",
   "execution_count": null,
   "id": "f5914b19",
   "metadata": {},
   "outputs": [],
   "source": [
    "gdp_df.dtypes"
   ]
  },
  {
   "cell_type": "markdown",
   "id": "ed54f91e",
   "metadata": {},
   "source": [
    "Drop the Value Footnotes column and rename the remaining three to 'Country', 'Year', and 'GDP_Per_Capita'."
   ]
  },
  {
   "cell_type": "code",
   "execution_count": null,
   "id": "34be026b",
   "metadata": {},
   "outputs": [],
   "source": [
    "gdp_df = gdp_df.drop(columns = 'Value Footnotes')"
   ]
  },
  {
   "cell_type": "code",
   "execution_count": null,
   "id": "296797e7",
   "metadata": {},
   "outputs": [],
   "source": [
    "gdp_df.reset_index"
   ]
  },
  {
   "cell_type": "code",
   "execution_count": null,
   "id": "667f1c57",
   "metadata": {
    "scrolled": true
   },
   "outputs": [],
   "source": [
    "gdp_dif = gdp_df.columns = ['Country', 'Year', 'GDP_Per_Capita']\n",
    "gdp_df.head()"
   ]
  },
  {
   "cell_type": "code",
   "execution_count": null,
   "id": "13e1b6e0",
   "metadata": {},
   "outputs": [],
   "source": [
    "gdp_df = gdp_df.sort_values(by = 'GDP_Per_Capita')\n",
    "gdp_df.head()"
   ]
  },
  {
   "cell_type": "code",
   "execution_count": null,
   "id": "7331f795",
   "metadata": {},
   "outputs": [],
   "source": [
    "gdp_df.isnull().values.any()"
   ]
  },
  {
   "cell_type": "code",
   "execution_count": null,
   "id": "efd18f35",
   "metadata": {},
   "outputs": [],
   "source": [
    "gdp_df"
   ]
  },
  {
   "cell_type": "markdown",
   "id": "13806cc6",
   "metadata": {},
   "source": [
    "How many countries have data for all years? Which countries are missing many years of data? Look at the number of observations per year. What do you notice?"
   ]
  },
  {
   "cell_type": "code",
   "execution_count": null,
   "id": "102c8bae",
   "metadata": {
    "scrolled": false
   },
   "outputs": [],
   "source": [
    "country_values = gdp_df.Country.value_counts()\n",
    "country_values"
   ]
  },
  {
   "cell_type": "code",
   "execution_count": null,
   "id": "b62841d6",
   "metadata": {
    "scrolled": true
   },
   "outputs": [],
   "source": [
    "country_values = pd.DataFrame(country_values)\n",
    "country_values.head()\n"
   ]
  },
  {
   "cell_type": "code",
   "execution_count": null,
   "id": "48daef9b",
   "metadata": {},
   "outputs": [],
   "source": [
    "country_values = country_values.reset_index()\n",
    "country_values.head()"
   ]
  },
  {
   "cell_type": "code",
   "execution_count": null,
   "id": "b6b66c40",
   "metadata": {},
   "outputs": [],
   "source": [
    "country_values.columns =['Country', 'Count']"
   ]
  },
  {
   "cell_type": "code",
   "execution_count": null,
   "id": "87d84675",
   "metadata": {
    "scrolled": true
   },
   "outputs": [],
   "source": [
    "incomplete_country_values = country_values.loc[(country_values.Count <31)]"
   ]
  },
  {
   "cell_type": "code",
   "execution_count": null,
   "id": "8db3b11c",
   "metadata": {},
   "outputs": [],
   "source": [
    "incomplete_country_values.shape"
   ]
  },
  {
   "cell_type": "code",
   "execution_count": null,
   "id": "64d87e4f",
   "metadata": {},
   "outputs": [],
   "source": [
    "gdp_df"
   ]
  },
  {
   "cell_type": "markdown",
   "id": "1285ece4",
   "metadata": {},
   "source": [
    "In this question, you're going to create some plots to show the distribution of GDP per capita for the year 2020. Go to the Python Graph Gallery (https://www.python-graph-gallery.com/) and look at the different types of plots under the Distribution section. Create a histogram, a density plot, a boxplot, and a violin plot. What do you notice when you look at these plots? How do the plots compare and what information can you get out of one type that you can't necessarily get out of the others?"
   ]
  },
  {
   "cell_type": "code",
   "execution_count": null,
   "id": "dd419af2",
   "metadata": {
    "scrolled": true
   },
   "outputs": [],
   "source": [
    "year_2020 = gdp_df.loc[gdp_df['Year'] == 2020]\n",
    "year_2020.head()"
   ]
  },
  {
   "cell_type": "code",
   "execution_count": null,
   "id": "1ea3166c",
   "metadata": {
    "scrolled": true
   },
   "outputs": [],
   "source": [
    "sns.histplot(data= year_2020, x=\"GDP_Per_Capita\")\n"
   ]
  },
  {
   "cell_type": "code",
   "execution_count": null,
   "id": "d5cdec45",
   "metadata": {},
   "outputs": [],
   "source": [
    "sns.kdeplot(data=year_2020, x=\"GDP_Per_Capita\")"
   ]
  },
  {
   "cell_type": "code",
   "execution_count": null,
   "id": "75cbf6df",
   "metadata": {},
   "outputs": [],
   "source": [
    "sns.boxplot(data=year_2020, y=\"GDP_Per_Capita\")"
   ]
  },
  {
   "cell_type": "code",
   "execution_count": null,
   "id": "987d5bad",
   "metadata": {},
   "outputs": [],
   "source": [
    "sns.violinplot(data=year_2020, x=\"GDP_Per_Capita\")"
   ]
  },
  {
   "cell_type": "markdown",
   "id": "2cfbad37",
   "metadata": {},
   "source": [
    "What was the median GDP per capita value in 2020?"
   ]
  },
  {
   "cell_type": "code",
   "execution_count": null,
   "id": "246a87e4",
   "metadata": {
    "scrolled": true
   },
   "outputs": [],
   "source": [
    "year_2020['GDP_Per_Capita'].median()"
   ]
  },
  {
   "cell_type": "markdown",
   "id": "d73c7767",
   "metadata": {},
   "source": [
    "For this question, you're going to create some visualizations to compare GDP per capita values for the years 1990, 2000, 2010, and 2020. Start by subsetting your data to just these 4 years into a new DataFrame named gdp_decades. Using this, create the following 4 plots:\n",
    "\n",
    "A boxplot\n",
    "A barplot (check out the Barplot with Seaborn section: https://www.python-graph-gallery.com/barplot/#Seaborn)\n",
    "A scatterplot\n",
    "A scatterplot with a trend line overlaid (see this regplot example: https://www.python-graph-gallery.com/42-custom-linear-regression-fit-seaborn)\n",
    "Comment on what you observe has happened to GDP values over time and the relative strengths and weaknesses of each type of plot."
   ]
  },
  {
   "cell_type": "code",
   "execution_count": null,
   "id": "ae953ddb",
   "metadata": {},
   "outputs": [],
   "source": [
    "gdp_decades = [1990, 2000, 2010, 2020]\n",
    "gdp_decades = gdp_df.query(\"Year in @gdp_decades\")\n",
    "gdp_decades.head()"
   ]
  },
  {
   "cell_type": "code",
   "execution_count": null,
   "id": "704ac088",
   "metadata": {},
   "outputs": [],
   "source": [
    "sns.boxplot(data=gdp_decades, y=\"GDP_Per_Capita\")"
   ]
  },
  {
   "cell_type": "code",
   "execution_count": null,
   "id": "d1aab906",
   "metadata": {},
   "outputs": [],
   "source": [
    "sns.barplot(data=gdp_decades, x=\"Year\", y=\"GDP_Per_Capita\")"
   ]
  },
  {
   "cell_type": "code",
   "execution_count": null,
   "id": "7c40ec45",
   "metadata": {},
   "outputs": [],
   "source": [
    "sns.scatterplot(data=gdp_decades, x=\"Year\", y=\"GDP_Per_Capita\")"
   ]
  },
  {
   "cell_type": "code",
   "execution_count": null,
   "id": "a898f4d0",
   "metadata": {},
   "outputs": [],
   "source": [
    "sns.regplot(data=gdp_decades, x=\"Year\", y=\"GDP_Per_Capita\",\n",
    "            line_kws={\"color\":\"r\",\"alpha\":0.7,\"lw\":5})\n",
    "plt.show()"
   ]
  },
  {
   "cell_type": "markdown",
   "id": "7f856d1d",
   "metadata": {},
   "source": [
    "Which country was the first to have a GDP per capita greater than $100,000?"
   ]
  },
  {
   "cell_type": "code",
   "execution_count": null,
   "id": "b09e2614",
   "metadata": {},
   "outputs": [],
   "source": [
    "top_gdp = gdp_df.loc[gdp_df['GDP_Per_Capita']>100000]\n",
    "top_gdp.head()"
   ]
  },
  {
   "cell_type": "code",
   "execution_count": null,
   "id": "39640055",
   "metadata": {},
   "outputs": [],
   "source": [
    "top_gdp.sort_values(by = 'Year')\n"
   ]
  },
  {
   "cell_type": "markdown",
   "id": "b8b8cedd",
   "metadata": {},
   "source": [
    "Which country had the highest GDP per capita in 2020? Create a plot showing how this country's GDP per capita has changed over the timespan of the dataset."
   ]
  },
  {
   "cell_type": "code",
   "execution_count": null,
   "id": "a960abab",
   "metadata": {
    "scrolled": true
   },
   "outputs": [],
   "source": [
    "top_2020 = gdp_df.loc[gdp_df['Year']== 2020]\n",
    "top_2020.sort_values(by = 'GDP_Per_Capita', ascending = False)"
   ]
  },
  {
   "cell_type": "code",
   "execution_count": null,
   "id": "d1b0b8ea",
   "metadata": {},
   "outputs": [],
   "source": [
    "lux_gdp = gdp_df.loc[gdp_df['Country']=='Luxembourg']\n",
    "lux_gdp.head()"
   ]
  },
  {
   "cell_type": "code",
   "execution_count": null,
   "id": "7b310d69",
   "metadata": {},
   "outputs": [],
   "source": [
    "sns.lineplot(data=lux_gdp, x=\"Year\", y=\"GDP_Per_Capita\")"
   ]
  },
  {
   "cell_type": "markdown",
   "id": "36a573ee",
   "metadata": {},
   "source": [
    "Which country had the lowest GDP per capita in 2020? Create a plot showing how this country's GDP per capita has changed over the timespan of the dataset. Bonus question: Is it true in general that coutries had a higher GDP per capita in 2020 than in 1990? Which countries had lower GDP per capita in 2020 than in 1990?"
   ]
  },
  {
   "cell_type": "code",
   "execution_count": null,
   "id": "a22b84fa",
   "metadata": {
    "scrolled": true
   },
   "outputs": [],
   "source": [
    "bottom_2020 = gdp_df.loc[gdp_df['Year']== 2020]\n",
    "bottom_2020.sort_values(by = 'GDP_Per_Capita')"
   ]
  },
  {
   "cell_type": "code",
   "execution_count": null,
   "id": "7d0b2e02",
   "metadata": {},
   "outputs": [],
   "source": [
    "bur_gdp = gdp_df.loc[gdp_df['Country']=='Burundi']\n",
    "bur_gdp.head()"
   ]
  },
  {
   "cell_type": "code",
   "execution_count": null,
   "id": "c0bdf7d2",
   "metadata": {},
   "outputs": [],
   "source": [
    "sns.lineplot(data=bur_gdp, x=\"Year\", y=\"GDP_Per_Capita\")"
   ]
  },
  {
   "cell_type": "code",
   "execution_count": null,
   "id": "08017d1d",
   "metadata": {
    "scrolled": false
   },
   "outputs": [],
   "source": [
    "my_list = [1990, 2020]\n",
    "lower_gdp = gdp_df.query(\"Year in @my_list\")\n",
    "lower_gdp.sort_values(by = 'Country')"
   ]
  },
  {
   "cell_type": "code",
   "execution_count": null,
   "id": "0ca3d493",
   "metadata": {
    "scrolled": false
   },
   "outputs": [],
   "source": [
    "gdp_1990 = lower_gdp.loc[(lower_gdp.Year ==1990)]\n",
    "gdp_1990['gdp_90']= gdp_1990.GDP_Per_Capita\n",
    "gdp_1990.head()"
   ]
  },
  {
   "cell_type": "code",
   "execution_count": null,
   "id": "c9ea8fa3",
   "metadata": {
    "scrolled": true
   },
   "outputs": [],
   "source": [
    "gdp_1990 = gdp_1990.drop(columns = ['Year', 'GDP_Per_Capita'])\n",
    "gdp_1990.head()"
   ]
  },
  {
   "cell_type": "code",
   "execution_count": null,
   "id": "4d92ca71",
   "metadata": {},
   "outputs": [],
   "source": [
    "gdp_1990.dropna()"
   ]
  },
  {
   "cell_type": "code",
   "execution_count": null,
   "id": "761eae0a",
   "metadata": {
    "scrolled": true
   },
   "outputs": [],
   "source": [
    "gdp_2020 = lower_gdp.loc[(lower_gdp.Year ==2020)]\n",
    "gdp_2020['gdp_20']= gdp_2020.GDP_Per_Capita\n",
    "gdp_2020.head()"
   ]
  },
  {
   "cell_type": "code",
   "execution_count": null,
   "id": "807952db",
   "metadata": {
    "scrolled": true
   },
   "outputs": [],
   "source": [
    "gdp_2020 = gdp_2020.drop(columns = ['Year', 'GDP_Per_Capita'])\n",
    "gdp_2020.head()"
   ]
  },
  {
   "cell_type": "code",
   "execution_count": null,
   "id": "584c52cf",
   "metadata": {},
   "outputs": [],
   "source": [
    "gdp_2020.dropna()"
   ]
  },
  {
   "cell_type": "code",
   "execution_count": null,
   "id": "6ab915a3",
   "metadata": {},
   "outputs": [],
   "source": [
    "gdp_diff = pd.merge(gdp_2020, gdp_1990,\n",
    "                               left_on =['Country'], right_on=['Country'],\n",
    "                                how= 'outer')\n",
    "gdp_diff.head()"
   ]
  },
  {
   "cell_type": "code",
   "execution_count": null,
   "id": "ed895d30",
   "metadata": {},
   "outputs": [],
   "source": [
    "gdp_diff.info()\n",
    "gdp_diff.dropna()"
   ]
  },
  {
   "cell_type": "code",
   "execution_count": null,
   "id": "dea97d6f",
   "metadata": {
    "scrolled": true
   },
   "outputs": [],
   "source": [
    "gdp_diff['gdp_diff']= (gdp_diff.gdp_20)- (gdp_diff.gdp_90)\n",
    "\n",
    "\n",
    "gdp_diff"
   ]
  },
  {
   "cell_type": "code",
   "execution_count": null,
   "id": "58147b74",
   "metadata": {
    "scrolled": true
   },
   "outputs": [],
   "source": [
    "gdp_diff.plot(x= 'Country', y ='gdp_20')\n",
    "gdp_diff.plot(x= 'Country', y ='gdp_90')"
   ]
  },
  {
   "cell_type": "markdown",
   "id": "d05a20b5",
   "metadata": {},
   "source": [
    "Read in the internet use dataset into a DataFrame named internet_df. \n",
    "You will likely get errors when doing this. Check the arguments for the read_csv function to find ones that \n",
    "can help correct the errors (https://pandas.pydata.org/docs/reference/api/pandas.read_csv.html) \n",
    "Once you are able to read it in, take per a look at the top and bottom few rows to make sure \n",
    "that it has been read in correctly. Also, check the datatypes of the columns.\n"
   ]
  },
  {
   "cell_type": "code",
   "execution_count": null,
   "id": "7c841d0d",
   "metadata": {},
   "outputs": [],
   "source": [
    "internet_df = pd.read_csv('../data/internet_use.csv', on_bad_lines='skip')\n",
    "internet_df.head()\n",
    "internet_df.tail()\n",
    "internet_df.info()"
   ]
  },
  {
   "cell_type": "code",
   "execution_count": null,
   "id": "77cec039",
   "metadata": {},
   "outputs": [],
   "source": [
    "internet_df.tail()"
   ]
  },
  {
   "cell_type": "code",
   "execution_count": null,
   "id": "6609c475",
   "metadata": {},
   "outputs": [],
   "source": [
    "internet_df.head()"
   ]
  },
  {
   "cell_type": "code",
   "execution_count": null,
   "id": "0b7797aa",
   "metadata": {},
   "outputs": [],
   "source": [
    "internet_df = internet_df.drop(columns = 'Value Footnotes')"
   ]
  },
  {
   "cell_type": "code",
   "execution_count": null,
   "id": "e07f580f",
   "metadata": {
    "scrolled": true
   },
   "outputs": [],
   "source": [
    "internet_df = internet_df.rename(columns = {'Country or Area':'Country','Value': 'Internet_Users_Pct'})\n",
    "internet_df.head()"
   ]
  },
  {
   "cell_type": "markdown",
   "id": "8a2c5ba9",
   "metadata": {},
   "source": [
    "Look at the number of observations in this dataset per year. What do you notice?"
   ]
  },
  {
   "cell_type": "code",
   "execution_count": null,
   "id": "fd26800f",
   "metadata": {},
   "outputs": [],
   "source": [
    "internet_df['Year'].value_counts()"
   ]
  },
  {
   "cell_type": "markdown",
   "id": "13b1f047",
   "metadata": {},
   "source": [
    "What is the first year to have a non-zero internet users percentage value?"
   ]
  },
  {
   "cell_type": "code",
   "execution_count": null,
   "id": "74e32921",
   "metadata": {},
   "outputs": [],
   "source": [
    "internet_dff = internet_df.loc[(internet_df.Internet_Users_Pct >0)]\n",
    "internet_dff.sort_values(by = 'Year')"
   ]
  },
  {
   "cell_type": "markdown",
   "id": "28f1478d",
   "metadata": {},
   "source": [
    "How does the distribution of internet users percent differ for 2000 and 2014?"
   ]
  },
  {
   "cell_type": "code",
   "execution_count": null,
   "id": "2df5c546",
   "metadata": {},
   "outputs": [],
   "source": [
    "sns.barplot(data=internet_dff, y=\"Year\", x=\"Internet_Users_Pct\")"
   ]
  },
  {
   "cell_type": "markdown",
   "id": "95b6fb12",
   "metadata": {},
   "source": [
    "For how many countries was the percentage of internet users below 5% in 2014?"
   ]
  },
  {
   "cell_type": "code",
   "execution_count": null,
   "id": "6ca3d612",
   "metadata": {},
   "outputs": [],
   "source": [
    "low_pct = internet_df.loc[(internet_df.Year == '2014')&(internet_df.Internet_Users_Pct <5)]"
   ]
  },
  {
   "cell_type": "code",
   "execution_count": null,
   "id": "2305c592",
   "metadata": {},
   "outputs": [],
   "source": [
    "low_pct"
   ]
  },
  {
   "cell_type": "code",
   "execution_count": null,
   "id": "842aa332",
   "metadata": {},
   "outputs": [],
   "source": [
    "low_pct.value_counts('Year')"
   ]
  },
  {
   "cell_type": "markdown",
   "id": "e87ae220",
   "metadata": {},
   "source": [
    "Merge the two DataFrames to one. Do this in a way that keeps all rows from each of the two DataFrames. Call the new DataFrame gdp_and_internet_use. Look at the first and last few rows to confirm that it merged correctly."
   ]
  },
  {
   "cell_type": "code",
   "execution_count": null,
   "id": "bfa854ab",
   "metadata": {},
   "outputs": [],
   "source": [
    "gdp_df.Year = gdp_df.Year.astype('str')\n",
    "gdp_df.dtypes"
   ]
  },
  {
   "cell_type": "code",
   "execution_count": null,
   "id": "7cd7c07c",
   "metadata": {
    "scrolled": true
   },
   "outputs": [],
   "source": [
    "gdp_and_internet_use = pd.merge(gdp_df, internet_df,\n",
    "                               left_on =['Country','Year'], right_on=['Country','Year'],\n",
    "                                how= 'outer')\n",
    "                               \n",
    "gdp_and_internet_use= gdp_and_internet_use.dropna()"
   ]
  },
  {
   "cell_type": "code",
   "execution_count": null,
   "id": "00136861",
   "metadata": {},
   "outputs": [],
   "source": [
    "gdp_and_internet_use"
   ]
  },
  {
   "cell_type": "markdown",
   "id": "900c68dd",
   "metadata": {},
   "source": [
    "Find the three countries with the highest internet users percentage in 2014. Use a seaborn FacetGrid (https://seaborn.pydata.org/generated/seaborn.FacetGrid.html) to compare how the GDP per capita has changed over time for these three countries. What do you notice?"
   ]
  },
  {
   "cell_type": "code",
   "execution_count": null,
   "id": "721713cc",
   "metadata": {},
   "outputs": [],
   "source": [
    "year_2014 = gdp_and_internet_use.loc[(gdp_and_internet_use.Year =='2014')]\n",
    "year_2014.head()"
   ]
  },
  {
   "cell_type": "code",
   "execution_count": null,
   "id": "217e93c7",
   "metadata": {
    "scrolled": false
   },
   "outputs": [],
   "source": [
    "highest_internet_users = year_2014.nlargest(3, 'Internet_Users_Pct')\n",
    "highest_internet_users.head()"
   ]
  },
  {
   "cell_type": "code",
   "execution_count": null,
   "id": "be9c52b1",
   "metadata": {},
   "outputs": [],
   "source": [
    "highest_countries = gdp_and_internet_use.loc[(gdp_and_internet_use.Country.isin(['Iceland','Bermuda','Norway'])& gdp_and_internet_use.Year.isin(['1990','2000','2010','2014']))].sort_values(by= 'Year')\n",
    "highest_countries.head()\n",
    "highest_countries.tail()"
   ]
  },
  {
   "cell_type": "code",
   "execution_count": null,
   "id": "701b8d45",
   "metadata": {
    "scrolled": true
   },
   "outputs": [],
   "source": [
    "g = sns.FacetGrid(data= highest_countries, col=\"Country\")\n",
    "g.map(sns.lineplot, \"Year\", \"GDP_Per_Capita\", alpha=.7)\n",
    "g.add_legend()"
   ]
  },
  {
   "cell_type": "code",
   "execution_count": null,
   "id": "fd028a35",
   "metadata": {},
   "outputs": [],
   "source": [
    "g = sns.FacetGrid(data= highest_countries, col=\"Country\", hue=\"Year\")\n",
    "g.map(sns.scatterplot, \"Year\", \"GDP_Per_Capita\", alpha=.7)\n",
    "g.add_legend()"
   ]
  },
  {
   "cell_type": "markdown",
   "id": "eaa1c513",
   "metadata": {},
   "source": [
    "Subset gdp_and_internet_use to just the year 2014. Save this as a new dataframe named gdp_and_internet_use_2014"
   ]
  },
  {
   "cell_type": "code",
   "execution_count": null,
   "id": "d4af9598",
   "metadata": {},
   "outputs": [],
   "source": [
    "gdp_and_internet_use_2014 = gdp_and_internet_use.loc[(gdp_and_internet_use.Year =='2014')]\n",
    "gdp_and_internet_use_2014.head()"
   ]
  },
  {
   "cell_type": "markdown",
   "id": "de5586a2",
   "metadata": {},
   "source": [
    "Create a plot which compares Internet Users Percentage and GDP per Capita for the year 2014. What do you notice from this plot? If you see any unusual points, investigate them"
   ]
  },
  {
   "cell_type": "code",
   "execution_count": null,
   "id": "734e958d",
   "metadata": {},
   "outputs": [],
   "source": [
    "sns.violinplot(data=gdp_and_internet_use_2014, x=\"GDP_Per_Capita\", y= \"Internet_Users_Pct\")"
   ]
  },
  {
   "cell_type": "code",
   "execution_count": null,
   "id": "8d3b6187",
   "metadata": {},
   "outputs": [],
   "source": [
    "plt.plot(gdp_and_internet_use_2014['GDP_Per_Capita'], gdp_and_internet_use_2014['Internet_Users_Pct'])"
   ]
  },
  {
   "cell_type": "code",
   "execution_count": null,
   "id": "9c507678",
   "metadata": {},
   "outputs": [],
   "source": [
    "gdp_and_internet_use_2014.loc[(gdp_and_internet_use_2014.Internet_Users_Pct <20)&(gdp_and_internet_use_2014.GDP_Per_Capita >20000)]"
   ]
  },
  {
   "cell_type": "code",
   "execution_count": null,
   "id": "1da7b729",
   "metadata": {},
   "outputs": [],
   "source": [
    "gdp_and_internet_use_2014['GDP_group'] = pd.qcut(gdp_and_internet_use_2014['GDP_Per_Capita'], 3, labels=[\"Low\", \"Medium\", \"High\"])\n",
    "\n"
   ]
  },
  {
   "cell_type": "code",
   "execution_count": null,
   "id": "f461db0f",
   "metadata": {},
   "outputs": [],
   "source": [
    "gdp_and_internet_use_2014.head()"
   ]
  },
  {
   "cell_type": "code",
   "execution_count": null,
   "id": "7522add9",
   "metadata": {},
   "outputs": [],
   "source": [
    "gdp_and_internet_use_2014.tail()"
   ]
  },
  {
   "cell_type": "code",
   "execution_count": null,
   "id": "6af8dd10",
   "metadata": {},
   "outputs": [],
   "source": [
    "Stretch Question: How does the median internet users percentage compare for the three gdp groups?"
   ]
  },
  {
   "cell_type": "code",
   "execution_count": null,
   "id": "f2ea7f57",
   "metadata": {
    "scrolled": true
   },
   "outputs": [],
   "source": [
    "gdp_high = gdp_and_internet_use_2014.loc[(gdp_and_internet_use_2014.GDP_group == 'High')]\n",
    "gdp_high.head()"
   ]
  },
  {
   "cell_type": "code",
   "execution_count": null,
   "id": "fb2d6f2d",
   "metadata": {},
   "outputs": [],
   "source": [
    "gdp_high['median_int'] = gdp_high.Internet_Users_Pct.median()"
   ]
  },
  {
   "cell_type": "code",
   "execution_count": null,
   "id": "1d2d5078",
   "metadata": {},
   "outputs": [],
   "source": [
    "gdp_high.head()"
   ]
  },
  {
   "cell_type": "code",
   "execution_count": null,
   "id": "150a3714",
   "metadata": {},
   "outputs": [],
   "source": [
    "gdp_med = gdp_and_internet_use_2014.loc[(gdp_and_internet_use_2014.GDP_group == 'Medium')]\n",
    "gdp_med.head()"
   ]
  },
  {
   "cell_type": "code",
   "execution_count": null,
   "id": "622e4321",
   "metadata": {},
   "outputs": [],
   "source": [
    "gdp_med['median_int'] = gdp_med.Internet_Users_Pct.median()"
   ]
  },
  {
   "cell_type": "code",
   "execution_count": null,
   "id": "c105633d",
   "metadata": {},
   "outputs": [],
   "source": [
    "gdp_med.head()"
   ]
  },
  {
   "cell_type": "code",
   "execution_count": null,
   "id": "994f7ecc",
   "metadata": {},
   "outputs": [],
   "source": [
    "gdp_low = gdp_and_internet_use_2014.loc[(gdp_and_internet_use_2014.GDP_group == 'Low')]\n",
    "gdp_low.head()"
   ]
  },
  {
   "cell_type": "code",
   "execution_count": null,
   "id": "6623bd8a",
   "metadata": {},
   "outputs": [],
   "source": [
    "gdp_low['median_int'] = gdp_low.Internet_Users_Pct.median()\n",
    "gdp_low.head()"
   ]
  },
  {
   "cell_type": "code",
   "execution_count": null,
   "id": "ad41289b",
   "metadata": {},
   "outputs": [],
   "source": [
    "all_medians = pd.concat([gdp_high, gdp_med, gdp_low])\n",
    "all_medians"
   ]
  },
  {
   "cell_type": "code",
   "execution_count": null,
   "id": "c85ae12b",
   "metadata": {},
   "outputs": [],
   "source": [
    "sns.barplot(data=all_medians, x=\"GDP_group\", y=\"median_int\")"
   ]
  },
  {
   "cell_type": "code",
   "execution_count": null,
   "id": "df90345f",
   "metadata": {},
   "outputs": [],
   "source": []
  }
 ],
 "metadata": {
  "kernelspec": {
   "display_name": "Python 3 (ipykernel)",
   "language": "python",
   "name": "python3"
  },
  "language_info": {
   "codemirror_mode": {
    "name": "ipython",
    "version": 3
   },
   "file_extension": ".py",
   "mimetype": "text/x-python",
   "name": "python",
   "nbconvert_exporter": "python",
   "pygments_lexer": "ipython3",
   "version": "3.10.9"
  }
 },
 "nbformat": 4,
 "nbformat_minor": 5
}
