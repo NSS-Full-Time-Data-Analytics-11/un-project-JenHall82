{
 "cells": [
  {
   "cell_type": "code",
   "execution_count": null,
   "id": "e2a34908",
   "metadata": {},
   "outputs": [],
   "source": [
    "import pandas as pd\n",
    "import numpy as np\n",
    "import matplotlib.pyplot as plt\n",
    "import seaborn as sns"
   ]
  },
  {
   "cell_type": "code",
   "execution_count": null,
   "id": "69d2fd4a",
   "metadata": {},
   "outputs": [],
   "source": [
    "gdp_df = pd.read_csv('../data/gdp_percapita.csv')"
   ]
  },
  {
   "cell_type": "code",
   "execution_count": null,
   "id": "7af8fa50",
   "metadata": {},
   "outputs": [],
   "source": [
    "gdp_df.shape"
   ]
  },
  {
   "cell_type": "code",
   "execution_count": null,
   "id": "9ef57d30",
   "metadata": {},
   "outputs": [],
   "source": [
    "type(gdp_df)"
   ]
  },
  {
   "cell_type": "code",
   "execution_count": null,
   "id": "09592706",
   "metadata": {},
   "outputs": [],
   "source": [
    "gdp_df.head()"
   ]
  },
  {
   "cell_type": "code",
   "execution_count": null,
   "id": "f5914b19",
   "metadata": {},
   "outputs": [],
   "source": [
    "gdp_df.dtypes"
   ]
  },
  {
   "cell_type": "code",
   "execution_count": null,
   "id": "34be026b",
   "metadata": {},
   "outputs": [],
   "source": [
    "gdp_df = gdp_df.drop(columns = 'Value Footnotes')"
   ]
  },
  {
   "cell_type": "code",
   "execution_count": null,
   "id": "296797e7",
   "metadata": {},
   "outputs": [],
   "source": [
    "gdp_df.reset_index"
   ]
  },
  {
   "cell_type": "code",
   "execution_count": null,
   "id": "667f1c57",
   "metadata": {
    "scrolled": true
   },
   "outputs": [],
   "source": [
    "gdp_dif = gdp_df.columns = ['Country', 'Year', 'GDP_Per_Capita']\n",
    "gdp_df.head()"
   ]
  },
  {
   "cell_type": "code",
   "execution_count": null,
   "id": "13e1b6e0",
   "metadata": {},
   "outputs": [],
   "source": [
    "gdp_df = gdp_df.sort_values(by = 'GDP_Per_Capita')\n",
    "gdp_df.head()"
   ]
  },
  {
   "cell_type": "code",
   "execution_count": null,
   "id": "7331f795",
   "metadata": {},
   "outputs": [],
   "source": [
    "gdp_df.isnull().values.any()"
   ]
  },
  {
   "cell_type": "code",
   "execution_count": null,
   "id": "efd18f35",
   "metadata": {},
   "outputs": [],
   "source": [
    "gdp_df"
   ]
  },
  {
   "cell_type": "code",
   "execution_count": null,
   "id": "102c8bae",
   "metadata": {},
   "outputs": [],
   "source": [
    "gdp_df.Year.value_counts()"
   ]
  },
  {
   "cell_type": "code",
   "execution_count": null,
   "id": "64d87e4f",
   "metadata": {},
   "outputs": [],
   "source": [
    "gdp_df"
   ]
  },
  {
   "cell_type": "code",
   "execution_count": null,
   "id": "dd419af2",
   "metadata": {},
   "outputs": [],
   "source": [
    "year_2020 = gdp_df.loc[gdp_df['Year'] == 2020]\n",
    "year_2020.head()"
   ]
  },
  {
   "cell_type": "code",
   "execution_count": null,
   "id": "1ea3166c",
   "metadata": {
    "scrolled": true
   },
   "outputs": [],
   "source": [
    "sns.histplot(data= year_2020, x=\"GDP_Per_Capita\")\n"
   ]
  },
  {
   "cell_type": "code",
   "execution_count": null,
   "id": "d5cdec45",
   "metadata": {},
   "outputs": [],
   "source": [
    "sns.kdeplot(data=year_2020, x=\"GDP_Per_Capita\")"
   ]
  },
  {
   "cell_type": "code",
   "execution_count": null,
   "id": "75cbf6df",
   "metadata": {},
   "outputs": [],
   "source": [
    "sns.boxplot(data=year_2020, y=\"GDP_Per_Capita\")"
   ]
  },
  {
   "cell_type": "code",
   "execution_count": null,
   "id": "987d5bad",
   "metadata": {},
   "outputs": [],
   "source": [
    "sns.violinplot(data=year_2020, x=\"GDP_Per_Capita\")"
   ]
  },
  {
   "cell_type": "code",
   "execution_count": null,
   "id": "246a87e4",
   "metadata": {},
   "outputs": [],
   "source": [
    "year_2020['GDP_Per_Capita'].median"
   ]
  },
  {
   "cell_type": "code",
   "execution_count": null,
   "id": "ae953ddb",
   "metadata": {},
   "outputs": [],
   "source": [
    "gdp_decades = [1990, 2000, 2010, 2020]\n",
    "gdp_decades = gdp_df.query(\"Year in @gdp_decades\")\n",
    "gdp_decades.head()"
   ]
  },
  {
   "cell_type": "code",
   "execution_count": null,
   "id": "704ac088",
   "metadata": {},
   "outputs": [],
   "source": [
    "sns.boxplot(data=gdp_decades, y=\"GDP_Per_Capita\")"
   ]
  },
  {
   "cell_type": "code",
   "execution_count": null,
   "id": "d1aab906",
   "metadata": {},
   "outputs": [],
   "source": [
    "sns.barplot(data=gdp_decades, x=\"Year\", y=\"GDP_Per_Capita\")"
   ]
  },
  {
   "cell_type": "code",
   "execution_count": null,
   "id": "7c40ec45",
   "metadata": {},
   "outputs": [],
   "source": [
    "sns.scatterplot(data=gdp_decades, x=\"Year\", y=\"GDP_Per_Capita\")"
   ]
  },
  {
   "cell_type": "code",
   "execution_count": null,
   "id": "a898f4d0",
   "metadata": {},
   "outputs": [],
   "source": [
    "sns.regplot(data=gdp_decades, x=\"Year\", y=\"GDP_Per_Capita\",\n",
    "            line_kws={\"color\":\"r\",\"alpha\":0.7,\"lw\":5})\n",
    "plt.show()"
   ]
  },
  {
   "cell_type": "code",
   "execution_count": null,
   "id": "a1398732",
   "metadata": {},
   "outputs": [],
   "source": [
    "plt.figure(figsize = (25, 12))                              \n",
    "sns.set(style=\"whitegrid\")                                  \n",
    "sns.barplot(x = 'GDP_Per_Capita', \n",
    "            y = 'Country', \n",
    "            data = gdp_decades, \n",
    "            palette = 'Set2')\n",
    "plt.xlabel('')                                              \n",
    "plt.ylabel('')                                              \n",
    "plt.title('GDP By Decade');"
   ]
  },
  {
   "cell_type": "code",
   "execution_count": null,
   "id": "b09e2614",
   "metadata": {},
   "outputs": [],
   "source": [
    "top_gdp = gdp_df.loc[gdp_df['GDP_Per_Capita']>100000]\n",
    "top_gdp.head()"
   ]
  },
  {
   "cell_type": "code",
   "execution_count": null,
   "id": "39640055",
   "metadata": {},
   "outputs": [],
   "source": [
    "top_gdp.sort_values(by = 'Year')\n"
   ]
  },
  {
   "cell_type": "code",
   "execution_count": null,
   "id": "a960abab",
   "metadata": {},
   "outputs": [],
   "source": [
    "top_2020 = gdp_df.loc[gdp_df['Year']== 2020]\n",
    "top_2020.sort_values(by = 'GDP_Per_Capita', ascending = False)"
   ]
  },
  {
   "cell_type": "code",
   "execution_count": null,
   "id": "d1b0b8ea",
   "metadata": {},
   "outputs": [],
   "source": [
    "lux_gdp = gdp_df.loc[gdp_df['Country']=='Luxembourg']\n",
    "lux_gdp.head()"
   ]
  },
  {
   "cell_type": "code",
   "execution_count": null,
   "id": "7b310d69",
   "metadata": {},
   "outputs": [],
   "source": [
    "sns.lineplot(data=lux_gdp, x=\"Year\", y=\"GDP_Per_Capita\")"
   ]
  },
  {
   "cell_type": "code",
   "execution_count": null,
   "id": "a22b84fa",
   "metadata": {},
   "outputs": [],
   "source": [
    "bottom_2020 = gdp_df.loc[gdp_df['Year']== 2020]\n",
    "bottom_2020.sort_values(by = 'GDP_Per_Capita')"
   ]
  },
  {
   "cell_type": "code",
   "execution_count": null,
   "id": "7d0b2e02",
   "metadata": {},
   "outputs": [],
   "source": [
    "bur_gdp = gdp_df.loc[gdp_df['Country']=='Burundi']\n",
    "bur_gdp.head()"
   ]
  },
  {
   "cell_type": "code",
   "execution_count": null,
   "id": "c0bdf7d2",
   "metadata": {},
   "outputs": [],
   "source": [
    "sns.lineplot(data=bur_gdp, x=\"Year\", y=\"GDP_Per_Capita\")"
   ]
  },
  {
   "cell_type": "code",
   "execution_count": null,
   "id": "08017d1d",
   "metadata": {},
   "outputs": [],
   "source": [
    "my_list = [1990, 2020]\n",
    "lower_gdp = gdp_df.query(\"Year in @my_list\")\n",
    "lower_gdp.sort_values(by = 'Country')"
   ]
  },
  {
   "cell_type": "code",
   "execution_count": null,
   "id": "c5719400",
   "metadata": {},
   "outputs": [],
   "source": [
    "gdp_1990 = lower_gdp.loc[(lower_gdp.Year ==1990)]\n",
    "gdp_1990.head()"
   ]
  },
  {
   "cell_type": "code",
   "execution_count": null,
   "id": "123bfd6e",
   "metadata": {},
   "outputs": [],
   "source": [
    "gdp_2020 = lower_gdp.loc[(lower_gdp.Year ==2020)]\n",
    "gdp_2020.head()"
   ]
  },
  {
   "cell_type": "code",
   "execution_count": null,
   "id": "c9b3eab2",
   "metadata": {},
   "outputs": [],
   "source": [
    "gdp_diff = pd.concat([gdp_2020, gdp_1990])\n",
    "gdp_diff = pd.DataFrame(gdp_diff)\n",
    "gdp_diff.head()"
   ]
  },
  {
   "cell_type": "code",
   "execution_count": null,
   "id": "b0a93790",
   "metadata": {},
   "outputs": [],
   "source": [
    "gdp_diff.info()"
   ]
  },
  {
   "cell_type": "code",
   "execution_count": null,
   "id": "8ea33a7e",
   "metadata": {
    "scrolled": true
   },
   "outputs": [],
   "source": [
    "gdp_diff['gdp_diff']= gdp_2020['GDP_Per_Capita']- gdp_1990['GDP_Per_Capita']\n",
    "gdp_diff"
   ]
  },
  {
   "cell_type": "code",
   "execution_count": null,
   "id": "58147b74",
   "metadata": {
    "scrolled": true
   },
   "outputs": [],
   "source": [
    "sns.lineplot(data= lower_gdp, x= 'Country', y= 'GDP_Per_Capita')"
   ]
  },
  {
   "cell_type": "markdown",
   "id": "2b0437aa",
   "metadata": {},
   "source": [
    "Read in the internet use dataset into a DataFrame named internet_df. \n",
    "You will likely get errors when doing this. Check the arguments for the read_csv function to find ones that \n",
    "can help correct the errors (https://pandas.pydata.org/docs/reference/api/pandas.read_csv.html) \n",
    "Once you are able to read it in, take per a look at the top and bottom few rows to make sure \n",
    "that it has been read in correctly. Also, check the datatypes of the columns.\n"
   ]
  },
  {
   "cell_type": "code",
   "execution_count": null,
   "id": "3a8b2207",
   "metadata": {},
   "outputs": [],
   "source": [
    "internet_df = pd.read_csv('../data/internet_use.csv', on_bad_lines='skip')\n",
    "internet_df.head()\n",
    "internet_df.tail()\n",
    "internet_df.info()"
   ]
  },
  {
   "cell_type": "code",
   "execution_count": null,
   "id": "b6da5ac4",
   "metadata": {},
   "outputs": [],
   "source": [
    "internet_df.head()"
   ]
  },
  {
   "cell_type": "code",
   "execution_count": null,
   "id": "eab079ee",
   "metadata": {},
   "outputs": [],
   "source": [
    "internet_df = internet_df.drop(columns = 'Value Footnotes')"
   ]
  },
  {
   "cell_type": "code",
   "execution_count": null,
   "id": "70fdab44",
   "metadata": {},
   "outputs": [],
   "source": [
    "internet_df = internet_df.rename(columns = {'Country or Area':'Country','Value': 'Internet_Users_Pct'})\n",
    "internet_df.head()"
   ]
  },
  {
   "cell_type": "markdown",
   "id": "19c0eddf",
   "metadata": {},
   "source": [
    "Look at the number of observations in this dataset per year. What do you notice?"
   ]
  },
  {
   "cell_type": "code",
   "execution_count": null,
   "id": "f0108e6b",
   "metadata": {},
   "outputs": [],
   "source": [
    "internet_df['Year'].value_counts()"
   ]
  },
  {
   "cell_type": "markdown",
   "id": "728aed71",
   "metadata": {},
   "source": [
    "What is the first year to have a non-zero internet users percentage value?"
   ]
  },
  {
   "cell_type": "code",
   "execution_count": null,
   "id": "e3552e07",
   "metadata": {},
   "outputs": [],
   "source": [
    "internet_df = internet_df.loc[(internet_df.Internet_Users_Pct >0)]\n",
    "internet_df.sort_values(by = 'Year')"
   ]
  },
  {
   "cell_type": "markdown",
   "id": "79ee867c",
   "metadata": {},
   "source": [
    "How does the distribution of internet users percent differ for 2000 and 2014?"
   ]
  },
  {
   "cell_type": "code",
   "execution_count": null,
   "id": "78635bf2",
   "metadata": {},
   "outputs": [],
   "source": [
    "pct_diff = pct_diff.loc[]"
   ]
  }
 ],
 "metadata": {
  "kernelspec": {
   "display_name": "Python 3 (ipykernel)",
   "language": "python",
   "name": "python3"
  },
  "language_info": {
   "codemirror_mode": {
    "name": "ipython",
    "version": 3
   },
   "file_extension": ".py",
   "mimetype": "text/x-python",
   "name": "python",
   "nbconvert_exporter": "python",
   "pygments_lexer": "ipython3",
   "version": "3.10.9"
  }
 },
 "nbformat": 4,
 "nbformat_minor": 5
}
